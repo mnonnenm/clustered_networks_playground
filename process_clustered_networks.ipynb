{
 "cells": [
  {
   "cell_type": "markdown",
   "metadata": {},
   "source": [
    "# import and format data"
   ]
  },
  {
   "cell_type": "code",
   "execution_count": null,
   "metadata": {
    "collapsed": false
   },
   "outputs": [],
   "source": [
    "import numpy as np\n",
    "from brian2 import second\n",
    "npzfile = np.load('results/tmp.npz')\n",
    "\n",
    "\n",
    "spklist_e = npzfile['arr_0']\n",
    "spklist_i = npzfile['arr_1']\n",
    "\n",
    "n_cl = spklist_e.size\n",
    "\n",
    "# get sizes\n",
    "N = 0\n",
    "Ns = np.zeros(len(spklist_e), dtype=np.int)\n",
    "for i in range(spklist_e.size):\n",
    "    tmp = spklist_e[i]\n",
    "    Ns[i] = len(tmp.keys())\n",
    "    N += Ns[i]\n",
    "Ne = Ns.sum()\n",
    "if spklist_i.size == 1:\n",
    "    spklist_i = spklist_i.reshape(1)\n",
    "    Ni = len(spklist_i[0].keys())\n",
    "else:\n",
    "    raise Exception('expecting only a single inhibitory group')\n",
    "N = Ni + Ne\n",
    "\n",
    "T = 1.\n",
    "dt = 0.03\n",
    "range_T = np.arange(0,T+dt,dt)\n",
    "data = np.empty((range_T.size-1,Ne))\n",
    "\n",
    "idx = 0\n",
    "num_spikes = 0\n",
    "for i in range(n_cl):\n",
    "    print('cluster #', i+1)\n",
    "    for j in range(Ns[i]):\n",
    "        data[:,idx], _ = np.histogram(spklist_e[i][j]/second, range_T)\n",
    "        idx += 1\n",
    "        num_spikes += spklist_e[i][j].size\n",
    "        "
   ]
  },
  {
   "cell_type": "markdown",
   "metadata": {},
   "source": [
    "# compute statistics"
   ]
  },
  {
   "cell_type": "code",
   "execution_count": null,
   "metadata": {
    "collapsed": false
   },
   "outputs": [],
   "source": [
    "firing_rates = np.mean(data,0) * 1/dt\n",
    "\n",
    "covy = np.cov(data.T)\n",
    "eigs = np.linalg.eigvalsh(covy)[-1:0:-1]"
   ]
  },
  {
   "cell_type": "markdown",
   "metadata": {},
   "source": [
    "# plot some results"
   ]
  },
  {
   "cell_type": "code",
   "execution_count": null,
   "metadata": {
    "collapsed": false
   },
   "outputs": [],
   "source": [
    "import matplotlib.pyplot as plt\n",
    "plt.subplot(1,2,1)\n",
    "plt.imshow(covy)\n",
    "plt.subplot(1,2,2)\n",
    "plt.plot(eigs.cumsum()/eigs.sum())\n",
    "plt.axis([0, 5*n_cl, 0, 1])\n",
    "plt.show()"
   ]
  },
  {
   "cell_type": "code",
   "execution_count": null,
   "metadata": {
    "collapsed": true
   },
   "outputs": [],
   "source": []
  }
 ],
 "metadata": {
  "kernelspec": {
   "display_name": "Python 2",
   "language": "python",
   "name": "python2"
  },
  "language_info": {
   "codemirror_mode": {
    "name": "ipython",
    "version": 2
   },
   "file_extension": ".py",
   "mimetype": "text/x-python",
   "name": "python",
   "nbconvert_exporter": "python",
   "pygments_lexer": "ipython2",
   "version": "2.7.11"
  }
 },
 "nbformat": 4,
 "nbformat_minor": 0
}
