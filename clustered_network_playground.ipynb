{
 "metadata": {
  "name": ""
 },
 "nbformat": 3,
 "nbformat_minor": 0,
 "worksheets": [
  {
   "cells": [
    {
     "cell_type": "code",
     "collapsed": false,
     "input": [
      "import sys\n",
      "sys.path.append(\"/home/mackelab/anaconda3/envs/brian_env/lib/python2.7/site-packages/\") \n",
      "sys.path.append(\"/home/mackelab/anaconda3/envs/brian_env/lib/python2.7/site-packages/\") \n",
      "sys.path\n",
      "from runscript import main"
     ],
     "language": "python",
     "metadata": {},
     "outputs": []
    },
    {
     "cell_type": "code",
     "collapsed": false,
     "input": [
      "import numpy as np\n",
      "import os # To allow path names work under Windows and Linux\n",
      "\n",
      "from pypet.environment import Environment\n",
      "from pypet.brian.network import NetworkManager, run_network\n",
      "\n",
      "from clusternet import CNMonitorAnalysis, CNNeuronGroup, CNNetworkRunner, CNConnections,\\\n",
      "    CNFanoFactorComputer\n",
      "\n",
      "\n",
      "def main():\n",
      "    filename = os.path.join('hdf5', 'Clustered_Network_Ree_fine.hdf5')\n",
      "    env = Environment(trajectory='Clustered_Network',\n",
      "                      add_time=False,\n",
      "                      filename=filename,\n",
      "                      continuable=False,\n",
      "                      lazy_debug=False,\n",
      "                      multiproc=True,\n",
      "                      ncores=4,\n",
      "                      use_pool=False, # We cannot use a pool, our network cannot be pickled\n",
      "                      wrap_mode='QUEUE',\n",
      "                      overwrite_file=True)\n",
      "\n",
      "    #Get the trajectory container\n",
      "    traj = env.v_trajectory\n",
      "\n",
      "    # We introduce a `meta` parameter that we can use to easily rescale our network\n",
      "    scale = 1.0  # To obtain the results from the paper scale this to 1.0\n",
      "    # Be aware that your machine will need a lot of memory then!\n",
      "    traj.f_add_parameter('simulation.scale', scale,\n",
      "            comment='Meta parameter that can scale default settings. '\n",
      "                    'Rescales number of neurons and connections strenghts, but '\n",
      "                    'not the clustersize.')\n",
      "\n",
      "\n",
      "    # We create a Manager and pass all our components to the Manager.\n",
      "    # Note the order, CNNeuronGroups are scheduled before CNConnections,\n",
      "    # and the Fano Factor computation depends on the CNMonitorAnalysis\n",
      "    clustered_network_manager = NetworkManager(network_runner=CNNetworkRunner(),\n",
      "                                component_list=(CNNeuronGroup(), CNConnections()),\n",
      "                                analyser_list=(CNMonitorAnalysis(),CNFanoFactorComputer()))\n",
      "\n",
      "\n",
      "\n",
      "\n",
      "    # Add original parameters (but scaled according to `scale`)\n",
      "    clustered_network_manager.add_parameters(traj)\n",
      "\n",
      "    # We need `tolist` here since our parameter is a python float and not a\n",
      "    # numpy float.\n",
      "    explore_list = np.arange(2.0, 3.0, 0.1).tolist()\n",
      "    # Explore different values of `R_ee`\n",
      "    traj.f_explore({'R_ee' : explore_list})\n",
      "\n",
      "    # Pre-build network components\n",
      "    clustered_network_manager.pre_build(traj)\n",
      "\n",
      "\n",
      "    # Run the network simulation\n",
      "    traj.f_store() # Let's store the parameters already before the run\n",
      "    env.f_run(clustered_network_manager.run_network)\n",
      "\n",
      "    # Finally disable logging and close all log-files\n",
      "    env.f_disable_logging()"
     ],
     "language": "python",
     "metadata": {},
     "outputs": []
    },
    {
     "cell_type": "code",
     "collapsed": false,
     "input": [
      "main()"
     ],
     "language": "python",
     "metadata": {},
     "outputs": []
    },
    {
     "cell_type": "code",
     "collapsed": false,
     "input": [
      "import plotff\n",
      "plotff.main()"
     ],
     "language": "python",
     "metadata": {},
     "outputs": []
    },
    {
     "cell_type": "code",
     "collapsed": false,
     "input": [],
     "language": "python",
     "metadata": {},
     "outputs": []
    }
   ],
   "metadata": {}
  }
 ]
}