{
 "cells": [
  {
   "cell_type": "markdown",
   "metadata": {},
   "source": [
    "# Simulation setup"
   ]
  },
  {
   "cell_type": "code",
   "execution_count": null,
   "metadata": {
    "collapsed": false
   },
   "outputs": [],
   "source": [
    "import numpy as np\n",
    "from brian2 import *\n",
    "\n",
    "# overall model parameters\n",
    "\n",
    "N = 400\n",
    "Ni = 100\n",
    "n_cl = 5\n",
    "p_cl = np.ones(n_cl)/n_cl\n",
    "Ns = np.round(N/n_cl) * np.ones(n_cl, dtype=int)  #np.random.multinomial(N, p_cl)\n",
    "Cs = np.hstack([i * np.ones(Ns[i],dtype=np.int32) for i in range(n_cl)])\n",
    "\n",
    "scale = N/4000.\n",
    "duration = 2*second\n",
    "\n",
    "mod = 0.83\n",
    "mod2 = 0.96\n",
    "Vt = 1. # firing threshold\n",
    "Vr = 0. # reset potential\n",
    "\n",
    "model_eqs = '''dv/dt= 1.0/tau * (myu - v) + I_syn : 1\n",
    "               myu : 1\n",
    "               I_syn =  - I_syn_i + I_syn_e : Hz\n",
    "               I_syn_e = x_e/(tau2_e-tau1_e) : Hz\n",
    "               dx_e/dt = -(normalization_e*y_e+x_e)*invtau1_e : 1\n",
    "               dy_e/dt = -y_e*invtau2_e : 1\n",
    "               I_syn_i = x_i/(tau2_i-tau1_i) : Hz\n",
    "               dx_i/dt = -(normalization_i*y_i+x_i)*invtau1_i : 1\n",
    "               dy_i/dt = -y_i*invtau2_i : 1\n",
    "            '''\n",
    "\n",
    "\n",
    "# excitation-specific parameters\n",
    "\n",
    "myueMax = 1.2 *mod2\n",
    "myueMin = 1.1 *mod2\n",
    "\n",
    "taue = 15. * ms * mod\n",
    "tau1 = 1.*ms *mod\n",
    "tau2e = 3. * ms * mod\n",
    "\n",
    "refractory = 5 * ms\n",
    "\n",
    "type_type_conn = 0.2 + 0*np.sqrt(0.01) * np.random.normal( size=(n_cl, n_cl) )\n",
    "z = np.zeros(type_type_conn.shape)\n",
    "type_type_conn = np.where(type_type_conn >= z, type_type_conn, z)\n",
    "\n",
    "type_type_strn = 0.024 + 0.0001 * np.random.normal( size=(n_cl, n_cl) )\n",
    "z = np.zeros(type_type_strn.shape)\n",
    "type_type_strn = np.where(type_type_strn >= z, type_type_strn, z) / np.sqrt(scale)\n",
    "\n",
    "type_tau = 15. * mod * np.ones(n_cl) * ms #np.random.uniform(low=10, high=20, size=(n_cl,)) * msecond\n",
    "type_tau1 = 1. * mod * np.ones(n_cl) * ms #np.random.uniform(low=10, high=20, size=(n_cl,)) * msecond\n",
    "type_tau2 = 3. * mod * np.ones(n_cl) * ms #np.random.uniform(low=10, high=20, size=(n_cl,)) * msecond\n",
    "\n",
    "type_Vt = Vt * np.ones(n_cl) #np.random.uniform(low=-70, high=-55, size=(n_cl,)) * mvolt\n",
    "type_Vr = Vr * np.ones(n_cl)  #typeVt - np.random.uniform(low=-15, high=-5, size=(n_cl,)) * mvolt\n",
    "\n",
    "\n",
    "# inhibition-specific parameters\n",
    "\n",
    "taui = 10.*ms *mod # time constant of membrane inhibitory\n",
    "tau2i = 2.*ms *mod\n",
    "\n",
    "myuiMax = 1.05 *mod2\n",
    "myuiMin = 1.0 *mod2\n",
    "\n",
    "jEI = 0.045 / np.sqrt(scale)\n",
    "jIE = 0.014 / np.sqrt(scale)\n",
    "jII = 0.057 / np.sqrt(scale)\n",
    "\n",
    "pII = 0.5\n",
    "pEI = 0.5\n",
    "pIE = 0.5\n"
   ]
  },
  {
   "cell_type": "markdown",
   "metadata": {},
   "source": [
    "# Generate subpopulations"
   ]
  },
  {
   "cell_type": "code",
   "execution_count": null,
   "metadata": {
    "collapsed": true
   },
   "outputs": [],
   "source": [
    "import matplotlib.pyplot as plt\n",
    "from numpy.lib.stride_tricks import as_strided\n",
    "\n",
    "\n",
    "# add excitatory subpopulations\n",
    "Gs, Ms = [], []\n",
    "for i in range(n_cl):\n",
    "    \n",
    "    ns = {\n",
    "         'Vt' : Vt,\n",
    "         'Vr' : Vr,\n",
    "         'tau' : taue,\n",
    "         'tau1_i' : tau1,\n",
    "         'tau2_i' : tau2i,\n",
    "         'tau1_e' : tau1,\n",
    "         'tau2_e' : tau2e,\n",
    "         'normalization_e' : (tau1 - tau2e) / tau2e, \n",
    "         'invtau1_e' : 1./tau1,\n",
    "         'invtau2_e' : 1./tau2e,\n",
    "         'normalization_i' : (tau1 - tau2i) / tau2i, \n",
    "         'invtau1_i' : 1./tau1,\n",
    "         'invtau2_i' : 1./tau2i           \n",
    "          }    \n",
    "    Gs.append(  NeuronGroup(N=Ns[i], \n",
    "                model=model_eqs,\n",
    "                threshold='v > Vt',\n",
    "                refractory=refractory,\n",
    "                reset='v =Vr', \n",
    "                namespace=ns.copy()) )\n",
    "    Gs[-1].myu = np.random.uniform(myueMin, myueMax, Ns[i])\n",
    "    Gs[-1].v = ns['Vr'] + 1.*rand(Ns[i]) * (ns['Vt'] -ns['Vr'])    \n",
    "    Ms.append( SpikeMonitor(Gs[i]) )\n",
    "    \n",
    "    \n",
    "# add inhibitory subpopulation\n",
    "    ns = {\n",
    "         'Vt' : Vt,\n",
    "         'Vr' : Vr,\n",
    "         'tau' : taui,\n",
    "         'tau1_i' : tau1,\n",
    "         'tau2_i' : tau2i,\n",
    "         'tau1_e' : tau1,\n",
    "         'tau2_e' : tau2e,\n",
    "         'normalization_e' : (tau1 - tau2e) / tau2e, \n",
    "         'invtau1_e' : 1./tau1,\n",
    "         'invtau2_e' : 1./tau2e,\n",
    "         'normalization_i' : (tau1-tau2i) / tau2i, \n",
    "         'invtau1_i' : 1./tau1,\n",
    "         'invtau2_i' : 1./tau2i           \n",
    "          }      \n",
    "Gi = NeuronGroup(N=Ni, \n",
    "            model=model_eqs,\n",
    "            threshold='v > Vt', \n",
    "            refractory=refractory,\n",
    "            reset='v =Vr', \n",
    "            namespace=ns.copy())\n",
    "Gi.v = ns['Vr'] + 1.*rand(Ni) * (ns['Vt'] -ns['Vr'])\n",
    "Gi.myu = np.random.uniform(myuiMin, myuiMax, Ni)              \n",
    "Ms.append( SpikeMonitor(Gi) )\n"
   ]
  },
  {
   "cell_type": "markdown",
   "metadata": {},
   "source": [
    "# Wire up the populations"
   ]
  },
  {
   "cell_type": "code",
   "execution_count": null,
   "metadata": {
    "collapsed": false,
    "scrolled": false
   },
   "outputs": [],
   "source": [
    "\n",
    "print('adding EE synapses')\n",
    "\n",
    "S = []\n",
    "for i in range(n_cl):\n",
    "    for j in range(n_cl):\n",
    "        \n",
    "        if i == j:\n",
    "            \"\"\" think of something for here \"\"\"\n",
    "            ns= {'w' : type_type_strn[i,j] }\n",
    "            S.append(Synapses(Gs[i], Gs[j], pre='y_i += w', namespace=ns.copy()))\n",
    "\n",
    "            #base = np.random.random(Ns[i]) < type_type_conn[i,j] \"\"\" replace with randsample \"\"\"\n",
    "            base = np.sort(np.random.choice(Ns[i], np.round(Ns[i]*type_type_conn[i,j]), replace=False))\n",
    "            full = as_strided(base, strides=base.strides+(0,), shape=base.shape+(Ns[j],) )\n",
    "\n",
    "            idxi, idxj = np.where(full)[0], np.where(full)[1]\n",
    "            #S[-1].connect(idxi, idxj)\n",
    "            print(i, j, idxi.size, idxi.size/(1.0 * Ns[i] * Ns[j]))\n",
    "            if idxi.size > 0:\n",
    "                #S[-1].connect(True)\n",
    "                S[-1].connect(idxi.tolist(), idxj.tolist())\n",
    "            else:\n",
    "                S[-1].connect(False)\n",
    "        \n",
    "        else:\n",
    "            ns= {'w' : type_type_strn[i,j] }\n",
    "            S.append(Synapses(Gs[i], Gs[j], pre='y_i += w', namespace=ns.copy()))\n",
    "\n",
    "            #base = np.random.random(Ns[i]) < type_type_conn[i,j] \"\"\" replace with randsample \"\"\"\n",
    "            base = np.sort(np.random.choice(Ns[i], np.round(Ns[i]*type_type_conn[i,j]), replace=False))\n",
    "            full = as_strided(base, strides=base.strides+(0,), shape=base.shape+(Ns[j],) )\n",
    "\n",
    "            idxi, idxj = np.where(full)[0], np.where(full)[1]\n",
    "            #S[-1].connect(idxi, idxj)\n",
    "            print(i, j, idxi.size, idxi.size/(1.0 * Ns[i] * Ns[j]))\n",
    "            if idxi.size > 0:\n",
    "                #S[-1].connect(True)\n",
    "                S[-1].connect(idxi.tolist(), idxj.tolist())\n",
    "            else:\n",
    "                S[-1].connect(False)\n",
    "\n",
    "print('adding IE, EI, II synapses')\n",
    "for i in range(n_cl):    \n",
    "    ns= {'w' : jIE }\n",
    "    S.append(Synapses(Gs[i], Gi, pre='y_e += w', namespace=ns.copy()))\n",
    "    S[-1].connect(True, p = pIE)\n",
    "for j in range(n_cl):\n",
    "    ns= {'w' : jEI }\n",
    "    S.append(Synapses(Gi, Gs[j],  pre='y_i += w', namespace=ns.copy()))\n",
    "    S[-1].connect(True, p = pEI)\n",
    "ns= {'w' : jII }\n",
    "S.append(Synapses(Gi, Gi, pre='y_i += w', namespace=ns))\n",
    "S[-1].connect(True, p = pII)        \n",
    "    \n",
    "Gs.append(Gi)\n",
    "\n",
    "net = Network(Gs)\n",
    "net.add(Ms)\n",
    "net.add(S)\n",
    "\n",
    "print('starting run')\n",
    "\n",
    "net.run(duration = duration, namespace={})\n",
    "\n",
    "print('done')\n",
    "    "
   ]
  },
  {
   "cell_type": "code",
   "execution_count": null,
   "metadata": {
    "collapsed": false
   },
   "outputs": [],
   "source": []
  },
  {
   "cell_type": "markdown",
   "metadata": {},
   "source": [
    "# Plot"
   ]
  },
  {
   "cell_type": "code",
   "execution_count": null,
   "metadata": {
    "collapsed": false
   },
   "outputs": [],
   "source": [
    "plt.figure(1)\n",
    "plt.subplot(1,2,1)\n",
    "plt.imshow(type_type_conn, interpolation='none')\n",
    "plt.title('structural connectivity')\n",
    "plt.xlabel('# group')\n",
    "plt.ylabel('# group')\n",
    "plt.colorbar()\n",
    "plt.subplot(1,2,2)\n",
    "plt.imshow(type_type_strn, interpolation='none')\n",
    "plt.title('connectivity strength')\n",
    "plt.xlabel('# group')\n",
    "plt.colorbar()\n",
    "plt.show()"
   ]
  },
  {
   "cell_type": "code",
   "execution_count": null,
   "metadata": {
    "collapsed": false
   },
   "outputs": [],
   "source": [
    "plt.figure(2)\n",
    "NsAll = np.hstack((Ns, Ni))\n",
    "for j in range(len(Ms)):\n",
    "    plt.plot([0, duration], [NsAll[:j].sum(), NsAll[:j].sum()])\n",
    "    plt.hold(True)\n",
    "    for i in range(NsAll[j]):\n",
    "        spktms = Ms[j].spike_trains()[i]/second\n",
    "        plt.plot(spktms, i*np.ones(spktms.size)+NsAll[:j].sum(), '.')\n",
    "plt.show()"
   ]
  },
  {
   "cell_type": "markdown",
   "metadata": {},
   "source": [
    "# Store results"
   ]
  },
  {
   "cell_type": "code",
   "execution_count": null,
   "metadata": {
    "collapsed": false
   },
   "outputs": [],
   "source": [
    "np.savez('results/tmp', [Ms[j].spike_trains() for j in range(n_cl)], Ms[-1].spike_trains())"
   ]
  },
  {
   "cell_type": "code",
   "execution_count": null,
   "metadata": {
    "collapsed": false
   },
   "outputs": [],
   "source": [
    "import timeit\n",
    "\n",
    "timeit.Timer?"
   ]
  }
 ],
 "metadata": {
  "kernelspec": {
   "display_name": "Python 2",
   "language": "python",
   "name": "python2"
  },
  "language_info": {
   "codemirror_mode": {
    "name": "ipython",
    "version": 2
   },
   "file_extension": ".py",
   "mimetype": "text/x-python",
   "name": "python",
   "nbconvert_exporter": "python",
   "pygments_lexer": "ipython2",
   "version": "2.7.11"
  }
 },
 "nbformat": 4,
 "nbformat_minor": 0
}
