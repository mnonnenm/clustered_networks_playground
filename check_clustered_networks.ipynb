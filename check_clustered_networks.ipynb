{
 "cells": [
  {
   "cell_type": "code",
   "execution_count": null,
   "metadata": {
    "collapsed": true
   },
   "outputs": [],
   "source": [
    "path = 'Clustered_Network/parameters/simulation/durations/measurement_run'\n",
    "f.get(path)[...]"
   ]
  },
  {
   "cell_type": "code",
   "execution_count": 113,
   "metadata": {
    "collapsed": false
   },
   "outputs": [
    {
     "name": "stdout",
     "output_type": "stream",
     "text": [
      "('time unit initial run = ', '1.0 * second')\n",
      "('time unit simulation run = ', '1.0 * second')\n",
      "0\n",
      "100\n",
      "200\n",
      "300\n",
      "400\n",
      "500\n",
      "600\n",
      "700\n",
      "800\n",
      "900\n",
      "1000\n",
      "1100\n",
      "1200\n",
      "1300\n",
      "1400\n",
      "1500\n",
      "1600\n",
      "1700\n",
      "1800\n",
      "1900\n",
      "2000\n",
      "2100\n",
      "2200\n",
      "2300\n",
      "2400\n",
      "2500\n",
      "2600\n",
      "2700\n",
      "2800\n",
      "2900\n",
      "3000\n",
      "3100\n",
      "3200\n",
      "3300\n",
      "3400\n",
      "3500\n",
      "3600\n",
      "3700\n",
      "3800\n",
      "3900\n"
     ]
    }
   ],
   "source": [
    "import h5py\n",
    "f = h5py.File('hdf5/Clustered_Network.hdf5', 'r')\n",
    "#%matplotlib inline  \n",
    "import matplotlib.pyplot as plt\n",
    "\n",
    "run = 'run_00000003'\n",
    "dset=f[f.keys()[0]]\n",
    "spikes_e = dset['results']['runs'][run]['monitors']['spikes_e']\n",
    "spktimes = spikes_e['spikes']['block0_values'].value\n",
    "neuronidx = spikes_e['spikes']['block1_values'].value \n",
    "\n",
    "Ne = f['Clustered_Network']['parameters']['model']['N_e'].values()[0][0][0]\n",
    "\n",
    "T_offset = f['Clustered_Network']['parameters']['simulation']['durations']['initial_run']['data__brn__']\n",
    "print('time unit initial run = ', T_offset[0][0])\n",
    "T_offset = T_offset[0][1]\n",
    "T = f['Clustered_Network']['parameters']['simulation']['durations']['measurement_run']['data__brn__']\n",
    "print('time unit simulation run = ', T[0][0])\n",
    "T = T[0][1]\n",
    "\n",
    "\n",
    "dt = 0.03\n",
    "spktimes -= T_offset\n",
    "data = np.empty((int(T//dt),Ne))\n",
    "range_T = np.arange(0,T,0.03)\n",
    "for i in range(Ne):\n",
    "    if i/100. == i//100:\n",
    "        print(i)\n",
    "    data[:,i], _ = np.histogram(spktimes[np.where(neuronidx==i)[0]], range_T)"
   ]
  },
  {
   "cell_type": "code",
   "execution_count": 112,
   "metadata": {
    "collapsed": false
   },
   "outputs": [],
   "source": [
    "plt.imshow(data, interpolation=None)\n",
    "plt.show()"
   ]
  },
  {
   "cell_type": "code",
   "execution_count": 110,
   "metadata": {
    "collapsed": false
   },
   "outputs": [
    {
     "data": {
      "text/plain": [
       "0.5"
      ]
     },
     "execution_count": 110,
     "metadata": {},
     "output_type": "execute_result"
    }
   ],
   "source": [
    "T_offset"
   ]
  }
 ],
 "metadata": {
  "kernelspec": {
   "display_name": "Python 2",
   "language": "python",
   "name": "python2"
  },
  "language_info": {
   "codemirror_mode": {
    "name": "ipython",
    "version": 2
   },
   "file_extension": ".py",
   "mimetype": "text/x-python",
   "name": "python",
   "nbconvert_exporter": "python",
   "pygments_lexer": "ipython2",
   "version": "2.7.11"
  }
 },
 "nbformat": 4,
 "nbformat_minor": 0
}
